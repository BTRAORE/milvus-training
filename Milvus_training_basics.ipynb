{
  "nbformat": 4,
  "nbformat_minor": 0,
  "metadata": {
    "colab": {
      "provenance": [],
      "toc_visible": true
    },
    "kernelspec": {
      "name": "python3",
      "display_name": "Python 3"
    },
    "language_info": {
      "name": "python"
    }
  },
  "cells": [
    {
      "cell_type": "markdown",
      "source": [
        "Welcome to this interactive session on Milvus, the open-source vector database! In this notebook, you'll learn the core operations of Milvus by interacting with **Milvus Lite**, a lightweight version that runs directly in this Colab environment.\n",
        "\n",
        "### Prerequisites\n",
        "\n",
        "* **Google Colab:** No local setup required, just your web browser!\n",
        "* **Basic Python knowledge:** Familiarity with Python syntax and data structures."
      ],
      "metadata": {
        "id": "AI1ZKuoNsvJJ"
      }
    },
    {
      "cell_type": "markdown",
      "source": [
        "### Step 0: Install Libraries 📦\n",
        "\n",
        "First, we need to install the necessary Python libraries.\n",
        "* `pymilvus`: The official Python SDK for Milvus. It includes Milvus Lite.\n",
        "* `sentence-transformers`: A library to easily generate vector embeddings from text."
      ],
      "metadata": {
        "id": "gVnO_aTQvK2e"
      }
    },
    {
      "cell_type": "code",
      "source": [
        "# Install pymilvus with Milvus Lite\n",
        "!pip install pymilvus==2.4.10\n",
        "\n",
        "# Install sentence-transformers for generating embeddings\n",
        "!pip install sentence-transformers\n",
        "\n",
        "print(\"Libraries installed successfully! 🎉\")"
      ],
      "metadata": {
        "collapsed": true,
        "id": "Oc3C2fU0vYSC"
      },
      "execution_count": null,
      "outputs": []
    },
    {
      "cell_type": "markdown",
      "source": [
        "### Step 1: Initialize Milvus Lite & Connect 🤝\n",
        "\n",
        "Milvus Lite runs as an embedded process. When you create a `MilvusClient` instance and specify a local file path as the URI, Milvus Lite will automatically initialize and store all its data in that file."
      ],
      "metadata": {
        "id": "sXIhxNtRvhjU"
      }
    },
    {
      "cell_type": "code",
      "source": [
        "from pymilvus import MilvusClient, DataType, FieldSchema, CollectionSchema, MilvusException\n",
        "from sentence_transformers import SentenceTransformer\n",
        "import os\n",
        "\n",
        "# Define a file path for Milvus Lite to store its data.\n",
        "# This file will be created in your Colab environment.\n",
        "DB_FILE_PATH = \"./milvus_demo.db\"\n",
        "# Remove the database file if it exists from a previous run\n",
        "if os.path.exists(DB_FILE_PATH):\n",
        "    os.remove(DB_FILE_PATH)\n",
        "    print(f\"Removed existing database file: {DB_FILE_PATH}\")\n",
        "\n",
        "# Initialize MilvusClient. This starts Milvus Lite.\n",
        "client = MilvusClient(uri=DB_FILE_PATH)\n",
        "\n",
        "print(f\"Connected to Milvus Lite, data will be stored in: {DB_FILE_PATH} ✅\")\n",
        "print(f\"Milvus client connected: {client is not None}\")"
      ],
      "metadata": {
        "colab": {
          "base_uri": "https://localhost:8080/"
        },
        "id": "aXWZKrWHvtRH",
        "outputId": "d0051191-8473-47ad-b7e9-4a3a89772a29"
      },
      "execution_count": null,
      "outputs": [
        {
          "output_type": "stream",
          "name": "stderr",
          "text": [
            "DEBUG:pymilvus.milvus_client.milvus_client:Created new connection using: 285ee9c7dc184fb0b2becda788824507\n"
          ]
        },
        {
          "output_type": "stream",
          "name": "stdout",
          "text": [
            "Connected to Milvus Lite, data will be stored in: ./milvus_demo.db ✅\n",
            "Milvus client connected: True\n"
          ]
        }
      ]
    },
    {
      "cell_type": "markdown",
      "source": [
        "### Step 2: Define Collection Schema & Create Collection 🧩\n",
        "\n",
        "In Milvus, data is organized into **Collections**, which are similar to tables in a relational database. Each collection has a **schema** defining its fields, including at least one primary key and one vector field."
      ],
      "metadata": {
        "id": "rtViOdpuv1mo"
      }
    },
    {
      "cell_type": "code",
      "source": [
        "from pymilvus import connections\n",
        "COLLECTION_NAME = \"milvus_training_collection\"\n",
        "DIMENSION = 384 # This dimension is specific to the 'all-MiniLM-L6-v2' model\n",
        "\n",
        "# Define the schema for our collection\n",
        "# 1. 'id': A unique identifier for each document (primary key).\n",
        "# 2. 'raw_text': The original text content (metadata).\n",
        "# 3. 'raw_text_vector': The vector representation of the text.\n",
        "fields = [\n",
        "    FieldSchema(name=\"id\", dtype=DataType.INT64, is_primary=True, auto_id=True),\n",
        "    FieldSchema(name=\"raw_text\", dtype=DataType.VARCHAR, max_length=2048),\n",
        "    FieldSchema(name=\"category\", dtype=DataType.VARCHAR, max_length=100),\n",
        "    FieldSchema(name=\"raw_text_vector\", dtype=DataType.FLOAT_VECTOR, dim=DIMENSION)\n",
        "]\n",
        "\n",
        "# Create the CollectionSchema object\n",
        "schema = CollectionSchema(\n",
        "    fields,\n",
        "    description=\"A collection to store text documents and their embeddings for semantic search.\"\n",
        ")\n",
        "\n",
        "# Check if the collection already exists and drop it if so, to ensure a clean start\n",
        "if client.has_collection(collection_name=COLLECTION_NAME):\n",
        "    client.drop_collection(collection_name=COLLECTION_NAME)\n",
        "    print(f\"Dropped existing collection: {COLLECTION_NAME}\")\n",
        "\n",
        "# Create the collection in Milvus\n",
        "client.create_collection(\n",
        "    collection_name=COLLECTION_NAME,\n",
        "    schema=schema,\n",
        "    auto_id=True\n",
        ")\n",
        "\n",
        "print(f\"Collection '{COLLECTION_NAME}' created successfully! 📝\")\n",
        "\n",
        "# Verify collection creation\n",
        "print(\"\\nCollections in Milvus:\")\n",
        "print(client.list_collections())"
      ],
      "metadata": {
        "colab": {
          "base_uri": "https://localhost:8080/"
        },
        "id": "HM1byYOnv-hp",
        "outputId": "63aee5ce-e44f-4c4a-d1eb-4f380fbff4cf"
      },
      "execution_count": null,
      "outputs": [
        {
          "output_type": "stream",
          "name": "stderr",
          "text": [
            "DEBUG:pymilvus.milvus_client.milvus_client:Successfully created collection: milvus_training_collection\n"
          ]
        },
        {
          "output_type": "stream",
          "name": "stdout",
          "text": [
            "Dropped existing collection: milvus_training_collection\n",
            "Collection 'milvus_training_collection' created successfully! 📝\n",
            "\n",
            "Collections in Milvus:\n",
            "['milvus_training_collection']\n"
          ]
        }
      ]
    },
    {
      "cell_type": "markdown",
      "source": [
        "### Step 3: Generate Embeddings and Insert Data ➕\n",
        "\n",
        "Before inserting text into Milvus, we need to convert it into **vector embeddings**. We'll use a pre-trained `SentenceTransformer` model for this."
      ],
      "metadata": {
        "id": "x2oLr3BjwHrv"
      }
    },
    {
      "cell_type": "code",
      "source": [
        "# Load a pre-trained sentence embedding model\n",
        "# 'all-MiniLM-L6-v2' is a good balance of performance and size for demos.\n",
        "model = SentenceTransformer('all-MiniLM-L6-v2')\n",
        "print(\"Sentence embedding model loaded. 🧠\")\n",
        "\n",
        "hotel_descriptions = [\n",
        "    {\n",
        "        \"text\": \"Experience unparalleled luxury at The Grand Monarch Hotel, where every detail is crafted for your supreme comfort. Our spacious suites offer panoramic city views, plush bedding, and state-of-the-art amenities. Indulge in gourmet dining, unwind at the rooftop infinity pool, or rejuvenate at our exclusive spa. Located in the heart of the city's vibrant district, perfect for both business and leisure.\",\n",
        "        \"category\": \"luxury\"\n",
        "    },\n",
        "    {\n",
        "        \"text\": \"Welcome to Serenity Suites, a boutique hotel designed for ultimate relaxation. Nestled amidst lush gardens, it features elegantly appointed rooms with private balconies. Enjoy farm-to-table dining, a serene yoga studio, and personalized service. A tranquil escape just minutes from the bustling city center.\",\n",
        "        \"category\": \"luxury\"\n",
        "    },\n",
        "    {\n",
        "        \"text\": \"The Business Elite Hotel offers premium accommodations with a focus on productivity and comfort. Each room includes a dedicated workspace, high-speed internet, and ergonomic chairs. Our facilities boast multiple meeting rooms, a 24/7 fitness center, and express check-in/check-out. Ideal for the discerning corporate traveler.\",\n",
        "        \"category\": \"mid-range\"\n",
        "    },\n",
        "    {\n",
        "        \"text\": \"Paradise Beach Resort is your gateway to an unforgettable beachfront vacation. Enjoy direct access to pristine sands, crystal-clear waters, and a variety of water sports. Our family-friendly resort features multiple pools, kids' clubs, and diverse dining options. Spacious ocean-view bungalows await.\",\n",
        "        \"category\": \"luxury\"\n",
        "    },\n",
        "    {\n",
        "        \"text\": \"Artisan Hotel, a modern marvel blending contemporary design with exceptional service. Located in the cultural quarter, steps away from galleries and theaters. Rooms feature unique art pieces, smart home technology, and rain showers. Enjoy our trendy lounge bar and a curated breakfast.\",\n",
        "        \"category\": \"mid-range\"\n",
        "    },\n",
        "    {\n",
        "        \"text\": \"City Stay Inn provides comfortable and affordable lodging in a convenient downtown location. Rooms are clean and include basic amenities like Wi-Fi and a flat-screen TV. We offer a continental breakfast and easy access to public transportation and local attractions.\",\n",
        "        \"category\": \"budget\"\n",
        "    },\n",
        "    {\n",
        "        \"text\": \"The Travelers Rest offers a no-frills, functional stay for budget-conscious visitors. Our rooms are modest but clean, with essential comforts. Free parking and a small diner on-site. Good for an overnight stop.\",\n",
        "        \"category\": \"budget\"\n",
        "    },\n",
        "    {\n",
        "        \"text\": \"Riverside Hotel offers standard rooms with river views, located slightly outside the main city hustle. Features include a modest restaurant and a small gym. A practical choice for those seeking quietude.\",\n",
        "        \"category\": \"mid-range\"\n",
        "    },\n",
        "    {\n",
        "        \"text\": \"Budget Lodge is a very basic accommodation suitable for short stays. Rooms are sparse and show some wear. Limited amenities, and the area can be noisy at night. Parking is a challenge.\",\n",
        "        \"category\": \"poor\"\n",
        "    },\n",
        "    {\n",
        "        \"text\": \"The Old Inn offers outdated rooms with minimal comfort. Expect worn furnishings and a strong musty smell. Maintenance is clearly an issue. Not recommended for extended stays.\",\n",
        "        \"category\": \"poor\"\n",
        "    }\n",
        "]\n",
        "\n",
        "# Generate embeddings for the documents\n",
        "documents = [doc[\"text\"] for doc in hotel_descriptions]\n",
        "document_embeddings = model.encode(documents).tolist()\n",
        "print(f\"Generated {len(document_embeddings)} embeddings. 📊\")\n",
        "\n",
        "# Prepare data for insertion: a list of dictionaries, each representing an entity (row)\n",
        "# The keys in the dictionary must match the field names in our collection schema.\n",
        "data_to_insert = []\n",
        "for i, (hotel_desc, embedding) in enumerate(zip(hotel_descriptions, document_embeddings)):\n",
        "    data_to_insert.append({\n",
        "       # \"id\": i + 1, # Manual ID if you want to control the id creation\n",
        "        \"raw_text\": hotel_desc['text'],\n",
        "        \"category\": hotel_desc['category'],\n",
        "        \"raw_text_vector\": embedding\n",
        "    })\n",
        "\n",
        "# Insert data into the collection\n",
        "insert_result = client.insert(\n",
        "    collection_name=COLLECTION_NAME,\n",
        "    data=data_to_insert\n",
        ")\n",
        "\n",
        "print(f\"\\nInserted {insert_result['insert_count']} entities. IDs: {insert_result['ids']} ✨\")\n",
        "\n",
        "# Get collection statistics to verify insertions\n",
        "stats = client.get_collection_stats(collection_name=COLLECTION_NAME)\n",
        "print(f\"\\nCollection '{COLLECTION_NAME}' has {stats['row_count']} entities. 📈\")"
      ],
      "metadata": {
        "id": "wB82AgJ1wgwv",
        "colab": {
          "base_uri": "https://localhost:8080/"
        },
        "outputId": "f75ef2ad-d9d8-4710-f585-8b4410af4dd3"
      },
      "execution_count": null,
      "outputs": [
        {
          "output_type": "stream",
          "name": "stdout",
          "text": [
            "Sentence embedding model loaded. 🧠\n",
            "Generated 10 embeddings. 📊\n",
            "\n",
            "Inserted 10 entities. IDs: [459496067010396200, 459496067010396201, 459496067010396202, 459496067010396203, 459496067010396204, 459496067010396205, 459496067010396206, 459496067010396207, 459496067010396208, 459496067010396209] ✨\n",
            "\n",
            "Collection 'milvus_training_collection' has 10 entities. 📈\n"
          ]
        }
      ]
    },
    {
      "cell_type": "markdown",
      "source": [
        "### Step 4: Create an Index & Load Collection 🚀\n",
        "\n",
        "To enable fast similarity search, Milvus needs an **index** on the vector field. After creating the index, the collection must be **loaded** into memory for queries."
      ],
      "metadata": {
        "id": "MfH2H5R2wqlT"
      }
    },
    {
      "cell_type": "code",
      "source": [
        "# Define index parameters\n",
        "# We'll use an IVF_FLAT index, which is good for many common scenarios.\n",
        "# 'nlist' is the number of clusters for IVF_FLAT.\n",
        "# 'L2' (Euclidean distance) is a common metric type.\n",
        "index_params = client.prepare_index_params()\n",
        "index_params.add_index(\n",
        "    field_name=\"raw_text_vector\",\n",
        "    index_type=\"IVF_FLAT\",\n",
        "    metric_type=\"COSINE\", # Other options: \"IP\" (Inner Product), \"COSINE\"\n",
        "    params={\"nlist\": 128} # Number of clusters for IVF_FLAT\n",
        ")\n",
        "\n",
        "# Create the index\n",
        "client.create_index(\n",
        "    collection_name=COLLECTION_NAME,\n",
        "    index_params=index_params\n",
        ")\n",
        "\n",
        "print(f\"Index created on collection '{COLLECTION_NAME}' for 'raw_text_vector' field. 🔑\")\n",
        "\n",
        "# Load the collection into memory for searching\n",
        "client.load_collection(collection_name=COLLECTION_NAME)\n",
        "print(f\"Collection '{COLLECTION_NAME}' loaded into memory. 💾\")"
      ],
      "metadata": {
        "id": "mWXm1SO8wsFa",
        "colab": {
          "base_uri": "https://localhost:8080/"
        },
        "outputId": "1a21395a-702e-40dc-d4e3-1f762a76eb0c"
      },
      "execution_count": null,
      "outputs": [
        {
          "output_type": "stream",
          "name": "stderr",
          "text": [
            "DEBUG:pymilvus.milvus_client.milvus_client:Successfully created an index on collection: milvus_training_collection\n"
          ]
        },
        {
          "output_type": "stream",
          "name": "stdout",
          "text": [
            "Index created on collection 'milvus_training_collection' for 'raw_text_vector' field. 🔑\n",
            "Collection 'milvus_training_collection' loaded into memory. 💾\n"
          ]
        }
      ]
    },
    {
      "cell_type": "markdown",
      "source": [
        "### Step 5: Perform Similarity Search 🔍\n",
        "\n",
        "Now that our data is inserted and indexed, we can perform **similarity searches**. We'll take a query text, convert it into an embedding, and then ask Milvus to find the most similar documents."
      ],
      "metadata": {
        "id": "wFh9XOD0w4W6"
      }
    },
    {
      "cell_type": "code",
      "source": [
        "# Define a query text\n",
        "query_text = \"Help me identify poor hotels with low quality amenities\"\n",
        "# I'm looking for a luxury hotel with excellent service and top-notch amenities.\n",
        "# Looking for the cheapest hotels, just a place to sleep.\n",
        "# Show me budget-friendly accommodations for a short, no-frills stay\n",
        "# Suggest a comfortable and premium hotel ideal for business travelers\n",
        "# Help me identify poor hotels with low quality amenities\n",
        "\n",
        "# Generate the embedding for the query text\n",
        "query_embedding = model.encode([query_text]).tolist()\n",
        "print(f\"Generated embedding for query: '{query_text}' 💬\")\n",
        "\n",
        "# Perform the search\n",
        "# 'data': The query vector(s)\n",
        "# 'limit': Number of top-K results to return\n",
        "# 'output_fields': Which scalar fields to retrieve along with the results\n",
        "# 'search_params': Parameters specific to the index type (e.g., 'nprobe' for IVF_FLAT)\n",
        "search_results = client.search(\n",
        "    collection_name=COLLECTION_NAME,\n",
        "    data=query_embedding,\n",
        "    limit=3, # Retrieve top 3 most similar results\n",
        "    output_fields=[\"raw_text\"], # Get the original text back\n",
        "    search_params={\"metric_type\": \"COSINE\", \"params\": {\"nprobe\": 10}}\n",
        ")\n",
        "\n",
        "print(\"\\nSearch Results: 🎯\")\n",
        "for hit in search_results[0]: # search_results[0] because we sent one query vector\n",
        "   # print(f\"  ID: {hit.id}\")\n",
        "   # print(f\"  Distance (L2): {hit.distance:.4f}\") # Lower L2 distance means higher similarity\n",
        "    print(f\"  Text: {hit['entity']['raw_text']}\")\n",
        "    print(f\"  Text: {hit['distance']}\")\n",
        "    print(\"-\" * 20)"
      ],
      "metadata": {
        "id": "q2wIlDckxHAa",
        "colab": {
          "base_uri": "https://localhost:8080/"
        },
        "outputId": "a5e78883-b794-4f21-a528-ef462992b166"
      },
      "execution_count": null,
      "outputs": [
        {
          "output_type": "stream",
          "name": "stdout",
          "text": [
            "Generated embedding for query: 'Help me identify poor hotels with low quality amenities' 💬\n",
            "\n",
            "Search Results: 🎯\n",
            "  Text: Budget Lodge is a very basic accommodation suitable for short stays. Rooms are sparse and show some wear. Limited amenities, and the area can be noisy at night. Parking is a challenge.\n",
            "  Text: 0.486139714717865\n",
            "--------------------\n",
            "  Text: The Travelers Rest offers a no-frills, functional stay for budget-conscious visitors. Our rooms are modest but clean, with essential comforts. Free parking and a small diner on-site. Good for an overnight stop.\n",
            "  Text: 0.46404412388801575\n",
            "--------------------\n",
            "  Text: The Business Elite Hotel offers premium accommodations with a focus on productivity and comfort. Each room includes a dedicated workspace, high-speed internet, and ergonomic chairs. Our facilities boast multiple meeting rooms, a 24/7 fitness center, and express check-in/check-out. Ideal for the discerning corporate traveler.\n",
            "  Text: 0.45085960626602173\n",
            "--------------------\n"
          ]
        }
      ]
    },
    {
      "cell_type": "markdown",
      "source": [
        "### Step 6: (Optional) Hybrid Search with Metadata Filtering 🧩 + 🔍\n",
        "\n",
        "Milvus allows you to combine vector similarity search with **metadata filtering**. This lets you narrow down your search results based on specific attribute values, leading to more precise and relevant outcomes."
      ],
      "metadata": {
        "id": "LdcAItOIxJyF"
      }
    },
    {
      "cell_type": "code",
      "source": [
        "\n",
        "# Perform a search with metadata filter\n",
        "query_text_filtered = \"Find a very confortable hotel\"\n",
        "query_embedding_filtered = model.encode([query_text_filtered]).tolist()\n",
        "\n",
        "# The 'filter' parameter uses a boolean expression on scalar fields\n",
        "category = \"luxury\"\n",
        "filtered_search_results = client.search(\n",
        "    collection_name=COLLECTION_NAME,\n",
        "    data=query_embedding_filtered,\n",
        "    limit=3,\n",
        "    output_fields=[\"raw_text\", \"category\"],\n",
        "    filter=f\"category == '{category}'\", # Filter results to only include documents where category matches\n",
        "    search_params={\"metric_type\": \"COSINE\", \"params\": {\"nprobe\": 10}}\n",
        ")\n",
        "\n",
        "print(f\"\\nHybrid Search Results (query: '{query_text_filtered}', filtered by category='{category}'): 🎯\")\n",
        "for hit in filtered_search_results[0]:\n",
        "    print(f\"  ID: {hit['id']}\")\n",
        "    print(f\"  Text: {hit['entity']['raw_text']}\")\n",
        "    print(f\"  category: {hit['entity']['category']}\")\n",
        "    print(f\"  Distance: {hit['distance']}\")\n",
        "    print(\"-\" * 20)\n"
      ],
      "metadata": {
        "id": "MDd5RVMyxX1F",
        "colab": {
          "base_uri": "https://localhost:8080/"
        },
        "outputId": "f0e68b67-146a-431c-9951-164fdc8719a8"
      },
      "execution_count": null,
      "outputs": [
        {
          "output_type": "stream",
          "name": "stdout",
          "text": [
            "\n",
            "Hybrid Search Results (query: 'Find a very confortable hotel', filtered by category='luxury'): 🎯\n",
            "  ID: 459496067010396201\n",
            "  Text: Welcome to Serenity Suites, a boutique hotel designed for ultimate relaxation. Nestled amidst lush gardens, it features elegantly appointed rooms with private balconies. Enjoy farm-to-table dining, a serene yoga studio, and personalized service. A tranquil escape just minutes from the bustling city center.\n",
            "  category: luxury\n",
            "  Distance: 0.5233446955680847\n",
            "--------------------\n",
            "  ID: 459496067010396200\n",
            "  Text: Experience unparalleled luxury at The Grand Monarch Hotel, where every detail is crafted for your supreme comfort. Our spacious suites offer panoramic city views, plush bedding, and state-of-the-art amenities. Indulge in gourmet dining, unwind at the rooftop infinity pool, or rejuvenate at our exclusive spa. Located in the heart of the city's vibrant district, perfect for both business and leisure.\n",
            "  category: luxury\n",
            "  Distance: 0.4614187180995941\n",
            "--------------------\n",
            "  ID: 459496067010396203\n",
            "  Text: Paradise Beach Resort is your gateway to an unforgettable beachfront vacation. Enjoy direct access to pristine sands, crystal-clear waters, and a variety of water sports. Our family-friendly resort features multiple pools, kids' clubs, and diverse dining options. Spacious ocean-view bungalows await.\n",
            "  category: luxury\n",
            "  Distance: 0.3528479337692261\n",
            "--------------------\n"
          ]
        }
      ]
    },
    {
      "cell_type": "markdown",
      "source": [
        "### Step 7: Clean Up (Optional) 🧹\n",
        "\n",
        "You can drop the collection and close the Milvus Lite client when you're done. This frees up resources and deletes the data file."
      ],
      "metadata": {
        "id": "dle6ANKlxjGd"
      }
    },
    {
      "cell_type": "code",
      "source": [
        "# Drop the collection\n",
        "client.drop_collection(collection_name=COLLECTION_NAME)\n",
        "print(f\"Collection '{COLLECTION_NAME}' dropped. 🗑️\")\n",
        "\n",
        "# Close the Milvus client (important for Milvus Lite to finalize the DB file)\n",
        "client.close()\n",
        "print(\"MilvusClient closed. 🚪\")\n",
        "\n",
        "# You can also manually delete the .db file if you wish\n",
        "if os.path.exists(DB_FILE_PATH):\n",
        "    os.remove(DB_FILE_PATH)\n",
        "    print(f\"Milvus Lite database file '{DB_FILE_PATH}' removed. 👋\")"
      ],
      "metadata": {
        "id": "X2L56eOuxmOU"
      },
      "execution_count": null,
      "outputs": []
    },
    {
      "cell_type": "markdown",
      "source": [
        "### Next Steps & Further Exploration 💡\n",
        "\n",
        "* **Experiment with different queries** and observe the search results.\n",
        "* Try different `limit` values in the search function.\n",
        "* Explore more advanced **index types** and their parameters (e.g., `HNSW` for even faster searches on very large datasets, though `IVF_FLAT` is often a good start).\n",
        "* Learn about **partitioning** in Milvus for better data management and query performance.\n",
        "* Consider **production deployments** of Milvus using Docker or Kubernetes for larger scale applications.\n",
        "* Integrate Milvus into your own AI applications, like **Retrieval Augmented Generation (RAG)** systems with LLMs.\n",
        "\n",
        "Thank you for participating! If you have any questions, feel free to ask."
      ],
      "metadata": {
        "id": "Jr8YEUSOxwAg"
      }
    }
  ]
}